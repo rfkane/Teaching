{
 "cells": [
  {
   "cell_type": "code",
   "execution_count": null,
   "metadata": {},
   "outputs": [],
   "source": [
    "import numpy as np\n",
    "from matplotlib import pyplot as plt\n",
    "\n",
    "m = 9/5\n",
    "b = 32\n",
    "\n",
    "C=np.linspace(-45,-35,1000)\n",
    "def F(C):\n",
    "    return  (m*C+b)\n",
    "F1 = C\n",
    "plt.plot(C,F(C),label=\"Farenheit=F(C)\")\n",
    "plt.plot(C,F1,label=\"C=F\")\n",
    "plt.legend()\n",
    "plt.xlabel('Celsius')\n",
    "plt.ylabel('Farenheit')\n",
    "plt.show()\n",
    "print (F(-40))\n",
    "\n",
    "\n",
    "\n"
   ]
  }
 ],
 "metadata": {
  "kernelspec": {
   "display_name": "Python 3",
   "language": "python",
   "name": "python3"
  },
  "language_info": {
   "codemirror_mode": {
    "name": "ipython",
    "version": 3
   },
   "file_extension": ".py",
   "mimetype": "text/x-python",
   "name": "python",
   "nbconvert_exporter": "python",
   "pygments_lexer": "ipython3",
   "version": "3.6.11"
  }
 },
 "nbformat": 4,
 "nbformat_minor": 4
}
